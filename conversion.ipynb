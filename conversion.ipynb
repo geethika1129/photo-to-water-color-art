{
 "cells": [
  {
   "cell_type": "code",
   "execution_count": null,
   "metadata": {},
   "outputs": [],
   "source": [
    "import cv2\n",
    "import numpy as np"
   ]
  },
  {
   "cell_type": "code",
   "execution_count": null,
   "metadata": {},
   "outputs": [],
   "source": [
    "image=cv2.imread('image.jpg')"
   ]
  },
  {
   "cell_type": "code",
   "execution_count": null,
   "metadata": {},
   "outputs": [],
   "source": [
    "\"\"\" from google.colab.patches import cv2_imshow\n",
    "cv2_imshow(image) \"\"\""
   ]
  },
  {
   "cell_type": "code",
   "execution_count": null,
   "metadata": {},
   "outputs": [],
   "source": [
    "image_resized=cv2.resize(image, None, fx=0.5, fy=0.5)"
   ]
  },
  {
   "cell_type": "code",
   "execution_count": null,
   "metadata": {},
   "outputs": [],
   "source": [
    "#smoothens the image filter of size k by k aperture\n",
    "image_cleared = cv2.medianBlur(image_resized, 3)\n",
    "image_cleared = cv2.medianBlur(image_cleared, 3)\n",
    "image_cleared = cv2.medianBlur(image_cleared, 3)\n",
    "\n",
    "image_cleared = cv2.edgePreservingFilter(image_cleared, sigma_s=5)"
   ]
  },
  {
   "cell_type": "code",
   "execution_count": null,
   "metadata": {},
   "outputs": [],
   "source": [
    "image_filtered = cv2.bilateralFilter(image_cleared, 3, 10, 5)\n",
    "#bilateral filter is used to preserve the edges\n",
    "for i in range(2):\n",
    "\timage_filtered = cv2.bilateralFilter(image_filtered, 3, 20, 10)\n",
    "#more number of times we do--the more clearer will be the image\n",
    "for i in range(3):\n",
    "\timage_filtered = cv2.bilateralFilter(image_filtered, 5, 30, 10)"
   ]
  },
  {
   "cell_type": "code",
   "execution_count": null,
   "metadata": {},
   "outputs": [],
   "source": [
    "#it doesnt check the edges--removes noise\n",
    "gaussian_mask= cv2.GaussianBlur(image_filtered, (7,7), 2)\n",
    "#add weighted ensures that the images are blended properly\n",
    "image_sharp = cv2.addWeighted(image_filtered, 1.5, gaussian_mask, -0.5, 0)\n",
    "image_sharp = cv2.addWeighted(image_sharp, 1.4, gaussian_mask, -0.2, 10)"
   ]
  },
  {
   "cell_type": "code",
   "execution_count": null,
   "metadata": {},
   "outputs": [],
   "source": [
    "cv2.imshow('final',image_sharp)\n",
    "cv2.waitKey(0)"
   ]
  },
  {
   "cell_type": "code",
   "execution_count": null,
   "metadata": {},
   "outputs": [],
   "source": [
    "\"\"\" cv2.imshow('original',image_resized)\n",
    "cv2.waitKey(0) \"\"\""
   ]
  },
  {
   "cell_type": "code",
   "execution_count": null,
   "metadata": {},
   "outputs": [],
   "source": []
  }
 ],
 "metadata": {
  "kernelspec": {
   "display_name": "Python 3",
   "language": "python",
   "name": "python3"
  },
  "language_info": {
   "codemirror_mode": {
    "name": "ipython",
    "version": 3
   },
   "file_extension": ".py",
   "mimetype": "text/x-python",
   "name": "python",
   "nbconvert_exporter": "python",
   "pygments_lexer": "ipython3",
   "version": "3.10.2"
  },
  "orig_nbformat": 4,
  "vscode": {
   "interpreter": {
    "hash": "27f6fea6f47ae512550f0b8facdbd035a93e1dd89633f7bf2dd00a2502c71d0d"
   }
  }
 },
 "nbformat": 4,
 "nbformat_minor": 2
}
